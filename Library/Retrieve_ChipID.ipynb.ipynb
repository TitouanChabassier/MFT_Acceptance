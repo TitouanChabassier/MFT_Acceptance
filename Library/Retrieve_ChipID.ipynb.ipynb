{
 "cells": [
  {
   "cell_type": "code",
   "execution_count": null,
   "id": "4d3792b6",
   "metadata": {},
   "outputs": [],
   "source": [
    "def Chips_in_Phi_Bin(Bin_Center, Bin_Span, DF=Chip_DF):\n",
    "    # Chip_DF is the panda dataframe with the coordinates of all 936 chips.\n",
    "    \n",
    "    Chips_in_Bin = [chip for chip in DF['ChipID'].values if ChangeToEtaPhi2(chip)[1]>Bin_Center-Bin_Span \n",
    "                    and ChangeToEtaPhi2(chip)[1]<Bin_Center+Bin_Span]\n",
    "            \n",
    "    return Chips_in_Bin\n",
    "\n",
    "def Get_RU_chips(input_RU, chip_position_file):\n",
    "    # Split the input string into its components\n",
    "    input_components = input_RU.split()\n",
    "    \n",
    "    # Open the file and read the data\n",
    "    with open(chip_position_file, 'r') as file:\n",
    "        data = file.readlines()\n",
    "    \n",
    "    # Initialize a list to hold matching chip IDs\n",
    "    RU_chips = []\n",
    "    \n",
    "    # Loop through each line in the data\n",
    "    for line in data:\n",
    "        # Check if all input components are in the line\n",
    "        if all(component in line for component in input_components):\n",
    "            # Split the line to extract ChipID\n",
    "            parts = line.split(' ')\n",
    "            chip_id = parts[2]\n",
    "            # Add the ChipID to the list\n",
    "            RU_chips.append(int(chip_id))\n",
    "    \n",
    "    return RU_chips\n"
   ]
  }
 ],
 "metadata": {
  "kernelspec": {
   "display_name": "Python 3 (ipykernel)",
   "language": "python",
   "name": "python3"
  },
  "language_info": {
   "codemirror_mode": {
    "name": "ipython",
    "version": 3
   },
   "file_extension": ".py",
   "mimetype": "text/x-python",
   "name": "python",
   "nbconvert_exporter": "python",
   "pygments_lexer": "ipython3",
   "version": "3.8.16"
  }
 },
 "nbformat": 4,
 "nbformat_minor": 5
}
